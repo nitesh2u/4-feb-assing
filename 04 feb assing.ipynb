{
 "cells": [
  {
   "cell_type": "markdown",
   "id": "84e28aad-67b6-4fb4-aeb9-9dbe031fb861",
   "metadata": {},
   "source": [
    "Q1. Create a python program to sort the given list of tuples based on integer value using a\n",
    "lambda function.\n",
    "[('Sachin Tendulkar', 34357), ('Ricky Ponting', 27483), ('Jack Kallis', 25534), ('Virat Kohli', 24936)]"
   ]
  },
  {
   "cell_type": "code",
   "execution_count": 22,
   "id": "59fd8cfb-f244-468c-bd8e-fd92c400d6b5",
   "metadata": {},
   "outputs": [
    {
     "name": "stdout",
     "output_type": "stream",
     "text": [
      "[('Virat Kohli', 24936), ('Jack Kallis', 25534), ('Ricky Ponting', 27483), ('Sachin Tendulkar', 34357)]\n"
     ]
    }
   ],
   "source": [
    "dl = [('Sachin Tendulkar', 34357), ('Ricky Ponting', 27483), ('Jack Kallis', 25534), ('Virat Kohli', 24936)]\n",
    "\n",
    "sorted123 = sorted(data, key=lambda x: x[1])\n",
    "\n",
    "print(sorted123)\n"
   ]
  },
  {
   "cell_type": "markdown",
   "id": "9ba368a7-f856-4eb2-8383-0ed7992263ee",
   "metadata": {},
   "source": [
    "2.Write a Python Program to find the squares of all the numbers in the given list of integers using\n",
    "lambda and map functions.\n",
    "[1, 2, 3, 4, 5, 6, 7, 8, 9, 10]"
   ]
  },
  {
   "cell_type": "code",
   "execution_count": 20,
   "id": "c93f76f9-12cf-4b30-a870-d9da6b833f4f",
   "metadata": {},
   "outputs": [],
   "source": [
    "Z= [1, 2, 3, 4, 5, 6, 7, 8, 9, 10]"
   ]
  },
  {
   "cell_type": "code",
   "execution_count": 23,
   "id": "c46679ad-8246-4297-a814-e8d5363f4435",
   "metadata": {},
   "outputs": [
    {
     "data": {
      "text/plain": [
       "[1, 4, 9, 16, 25, 36, 49, 64, 81, 100]"
      ]
     },
     "execution_count": 23,
     "metadata": {},
     "output_type": "execute_result"
    }
   ],
   "source": [
    "list(map(lambda x:x**2,Z))"
   ]
  },
  {
   "cell_type": "markdown",
   "id": "1d0a9096-aeca-431c-b27f-15173980e78d",
   "metadata": {},
   "source": [
    "3.Write a python program to convert the given list of integers into a tuple of strings. Use map and\n",
    "lambda functions \n",
    "Given String: [1, 2, 3, 4, 5, 6, 7, 8, 9, 10]\n",
    "Expected output: ('1', '2', '3', '4', '5', '6', '7', '8', '9', '10')"
   ]
  },
  {
   "cell_type": "code",
   "execution_count": 1,
   "id": "70865de6-25e7-46d1-a67a-a9e98551b551",
   "metadata": {},
   "outputs": [],
   "source": [
    "Z2 =[1, 2, 3, 4, 5, 6, 7, 8, 9, 10]"
   ]
  },
  {
   "cell_type": "code",
   "execution_count": 3,
   "id": "4db7181b-0cc6-4abc-ab24-7da116bc8393",
   "metadata": {},
   "outputs": [
    {
     "data": {
      "text/plain": [
       "['1', '2', '3', '4', '5', '6', '7', '8', '9', '10']"
      ]
     },
     "execution_count": 3,
     "metadata": {},
     "output_type": "execute_result"
    }
   ],
   "source": [
    "list(map(lambda x:str(x),Z2))"
   ]
  },
  {
   "cell_type": "markdown",
   "id": "6e2b1600-e60c-4efe-a878-5c1959274798",
   "metadata": {},
   "source": [
    "    Q.4 Write a python program using reduce function to compute the product of a list containing numbers\n",
    "from 1 to 25."
   ]
  },
  {
   "cell_type": "code",
   "execution_count": 4,
   "id": "59f26d86-4100-439c-a9cb-ffd88d726507",
   "metadata": {},
   "outputs": [],
   "source": [
    "from functools import reduce"
   ]
  },
  {
   "cell_type": "code",
   "execution_count": 5,
   "id": "d0725715-9535-483f-806d-e7fe07c60e32",
   "metadata": {},
   "outputs": [],
   "source": [
    "Z4 = list(range(1, 26))"
   ]
  },
  {
   "cell_type": "code",
   "execution_count": 8,
   "id": "d540ba7f-6fcc-46eb-b805-245fb29b539a",
   "metadata": {},
   "outputs": [
    {
     "data": {
      "text/plain": [
       "15511210043330985984000000"
      ]
     },
     "execution_count": 8,
     "metadata": {},
     "output_type": "execute_result"
    }
   ],
   "source": [
    "reduce(lambda x,y:x*y,Z4)"
   ]
  },
  {
   "cell_type": "markdown",
   "id": "867b5c0d-b970-450f-a601-9e131a3c0e5a",
   "metadata": {},
   "source": [
    "O.5Write a python program to filter the numbers in a given list that are divisible by 2 and 3 using the\n",
    "filter function.\n",
    "[2, 3, 6, 9, 27, 60, 90, 120, 55, 46]"
   ]
  },
  {
   "cell_type": "code",
   "execution_count": 9,
   "id": "3ca32455-4f7a-4efb-8428-b2e5ec88ea0e",
   "metadata": {},
   "outputs": [],
   "source": [
    "Z5 =  [2, 3, 6, 9, 27, 60, 90, 120, 55, 46]"
   ]
  },
  {
   "cell_type": "code",
   "execution_count": 10,
   "id": "cd4c6ace-831a-4127-a3bb-c0c3cacac892",
   "metadata": {},
   "outputs": [
    {
     "data": {
      "text/plain": [
       "[6, 60, 90, 120]"
      ]
     },
     "execution_count": 10,
     "metadata": {},
     "output_type": "execute_result"
    }
   ],
   "source": [
    "list(filter(lambda x:x % 2==0 and x % 3==0 , Z5))"
   ]
  },
  {
   "cell_type": "markdown",
   "id": "1b2717f6-e6ec-4009-9a61-438817f48862",
   "metadata": {},
   "source": [
    "Q.6 Write a python program to find palindromes in the given list of strings using lambda and filter\n",
    "function.\n",
    "['python', 'php', 'aba', 'radar', 'level']"
   ]
  },
  {
   "cell_type": "code",
   "execution_count": 16,
   "id": "2b9275bb-15d3-4b7d-b4ab-6079e20f3e35",
   "metadata": {},
   "outputs": [],
   "source": [
    "string_list = ['python', 'php', 'aba', 'radar', 'level']"
   ]
  },
  {
   "cell_type": "code",
   "execution_count": 18,
   "id": "edf5da02-3975-4649-9d95-f38e7980b258",
   "metadata": {},
   "outputs": [
    {
     "data": {
      "text/plain": [
       "['php', 'aba', 'radar', 'level']"
      ]
     },
     "execution_count": 18,
     "metadata": {},
     "output_type": "execute_result"
    }
   ],
   "source": [
    "list(filter(lambda s: s == s[::-1], string_list))"
   ]
  },
  {
   "cell_type": "code",
   "execution_count": null,
   "id": "d31b1697-abe5-4e4b-a503-cbd69b90f0e8",
   "metadata": {},
   "outputs": [],
   "source": []
  }
 ],
 "metadata": {
  "kernelspec": {
   "display_name": "Python 3 (ipykernel)",
   "language": "python",
   "name": "python3"
  },
  "language_info": {
   "codemirror_mode": {
    "name": "ipython",
    "version": 3
   },
   "file_extension": ".py",
   "mimetype": "text/x-python",
   "name": "python",
   "nbconvert_exporter": "python",
   "pygments_lexer": "ipython3",
   "version": "3.10.8"
  }
 },
 "nbformat": 4,
 "nbformat_minor": 5
}
